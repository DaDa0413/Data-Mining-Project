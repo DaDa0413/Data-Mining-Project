{
 "cells": [
  {
   "cell_type": "code",
   "execution_count": 5,
   "metadata": {},
   "outputs": [
    {
     "name": "stdout",
     "output_type": "stream",
     "text": [
      "current_cost=5.000000\n",
      "current_cost=4.779325\n",
      "current_cost=4.592031\n",
      "current_cost=4.431244\n",
      "current_cost=4.291732\n",
      "current_cost=4.169604\n",
      "current_cost=4.061920\n",
      "current_cost=3.966399\n",
      "current_cost=3.881228\n",
      "current_cost=3.804942\n"
     ]
    },
    {
     "name": "stderr",
     "output_type": "stream",
     "text": [
      "<ipython-input-5-c4f457f01fff>:12: VisibleDeprecationWarning: Creating an ndarray from ragged nested sequences (which is a list-or-tuple of lists-or-tuples-or ndarrays with different lengths or shapes) is deprecated. If you meant to do this, you must specify 'dtype=object' when creating the ndarray\n",
      "  dataset = np.array([\n"
     ]
    },
    {
     "data": {
      "image/png": "[encoded data removed]",
      "text/plain": [
       "<Figure size 432x288 with 1 Axes>"
      ]
     },
     "metadata": {
      "needs_background": "light"
     },
     "output_type": "display_data"
    }
   ],
   "source": [
    "#!/usr/bin/env python\n",
    "\n",
    "# encoding: utf-8\n",
    "\n",
    "\n",
    "import matplotlib.pyplot as plt\n",
    "import numpy as np\n",
    "import math\n",
    "\n",
    "#用0,1去做分類\n",
    "\n",
    "dataset = np.array([\n",
    "((1, -0.4, 0.3), 0),\n",
    "((1, -0.3, -0.1), 0),\n",
    "((1, -0.2, 0.4), 0),\n",
    "((1, -0.1, 0.1), 0),\n",
    "((1, 0.6, -0.5), 0), #非線性分割點\n",
    "\n",
    "((1, 0.8, 0.7), 1),\n",
    "((1, 0.9, -0.5), 1),\n",
    "((1, 0.7, -0.9), 1),\n",
    "((1, 0.8, 0.2), 1),\n",
    "((1, 0.4, -0.6), 1)])\n",
    "\n",
    "#計算機率函數\n",
    "\n",
    "def sigmoid(z):\n",
    "    return 1 / (1 + np.exp(-z))\n",
    "    \n",
    "#計算平均梯度\n",
    "\n",
    "def gradient(dataset, w):\n",
    "    g = np.zeros(len(w))\n",
    "    for x,y in dataset:\n",
    "        x = np.array(x)\n",
    "        error = sigmoid(w.T.dot(x))\n",
    "        g += (error - y) * x\n",
    "    return g / len(dataset)\n",
    "\n",
    "#計算現在的權重的錯誤有多少\n",
    "\n",
    "def cost(dataset, w):\n",
    "    total_cost = 0\n",
    "    for x,y in dataset:\n",
    "        x = np.array(x)\n",
    "        error = sigmoid(w.T.dot(x))\n",
    "        total_cost += abs(y - error)\n",
    "    return total_cost\n",
    "\n",
    "def logistic(dataset): #演算法實作\n",
    "\n",
    "    w = np.zeros(3) #用0 + 0*x1 + 0*x2當作初始設定 \n",
    "\n",
    "    limit = 10 #更新十次後停下\n",
    "\n",
    "    eta = 1 #更新幅度\n",
    "\n",
    "    costs = [] #紀錄每次更新權重後新的cost是多少\n",
    "\n",
    "    for i in range(limit):\n",
    "        current_cost = cost(dataset, w)\n",
    "        print (\"current_cost=%f\" % current_cost)\n",
    "        costs.append(current_cost)\n",
    "        w = w - eta * gradient(dataset, w)\n",
    "        eta *= 0.95 #更新幅度，逐步遞減\n",
    "\n",
    "    #畫出cost的變化曲線，他應該要是不斷遞減 才是正確\n",
    "\n",
    "    plt.plot(range(limit), costs)\n",
    "    plt.show()\n",
    "    return w\n",
    "#執行\n",
    "\n",
    "\n",
    "w = logistic(dataset)\n",
    "#畫圖\n",
    "\n",
    "\n",
    "# ps = [v[0] for v in dataset]\n",
    "# fig = plt.figure()\n",
    "# ax1 = fig.add_subplot(111)\n",
    "\n",
    "# ax1.scatter([v[1] for v in ps[:5]], [v[2] for v in ps[:5]], s=10, c='b', marker=\"o\", label='O')\n",
    "# ax1.scatter([v[1] for v in ps[5:]], [v[2] for v in ps[5:]], s=10, c='r', marker=\"x\", label='X')\n",
    "# l = np.linspace(-2,2)\n",
    "# a,b = -w[1]/w[2], -w[0]/w[2]\n",
    "# ax1.plot(l, a*l + b, 'b-')\n",
    "# plt.legend(loc='upper left');\n",
    "# plt.show()"
   ]
  },
  {
   "cell_type": "code",
   "execution_count": null,
   "metadata": {},
   "outputs": [],
   "source": []
  }
 ],
 "metadata": {
  "kernelspec": {
   "display_name": "Python 3",
   "language": "python",
   "name": "python3"
  },
  "language_info": {
   "codemirror_mode": {
    "name": "ipython",
    "version": 3
   },
   "file_extension": ".py",
   "mimetype": "text/x-python",
   "name": "python",
   "nbconvert_exporter": "python",
   "pygments_lexer": "ipython3",
   "version": "3.8.5"
  }
 },
 "nbformat": 4,
 "nbformat_minor": 4
}
