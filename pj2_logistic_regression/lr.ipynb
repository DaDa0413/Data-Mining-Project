{
 "cells": [
  {
   "cell_type": "code",
   "execution_count": null,
   "metadata": {},
   "outputs": [],
   "source": [
    "import matplotlib.pyplot as plt\n",
    "import numpy as np\n",
    "import math\n",
    "\n",
    "dataset = np.array([\n",
    "((1, -0.4, 0.3), 0),\n",
    "((1, -0.3, -0.1), 0),\n",
    "((1, -0.2, 0.4), 0),\n",
    "((1, -0.1, 0.1), 0),\n",
    "((1, 0.6, -0.5), 0), #非線性分割點\n",
    "\n",
    "((1, 0.8, 0.7), 1),\n",
    "((1, 0.9, -0.5), 1),\n",
    "((1, 0.7, -0.9), 1),\n",
    "((1, 0.8, 0.2), 1),\n",
    "((1, 0.4, -0.6), 1)])\n",
    "\n",
    "def sigmoid(z):\n",
    "    return 1 / (1 + np.exp(-z))\n",
    "\n",
    "def logistic_train(data_set, learning_rate):\n",
    "    model = np.ones(len(data_set[0]))\n",
    "    for x,y in data_set:\n",
    "        model = model - learning_rate * average_gradient(model, data_set)\n",
    "    return model\n",
    "\n",
    "def average_gradient(model, data_set):\n",
    "    gradient = np.zeros(data_set.shape)\n",
    "    for x, y in data_set:\n",
    "        gradient += np.dot((y - sigmoid(model.dot(x))), x)\n",
    "    return gradient / len(data_set)\n",
    "\n",
    "def logistic_predict(model, data):\n",
    "    if sigmoid(model * data) > 0.5:\n",
    "        return True\n",
    "    else:\n",
    "        return False\n",
    "\n",
    "def logistic_predict_prob(model, data):\n",
    "    return sigmoid(model * data)\n",
    "\n",
    "def visulization(model):\n",
    "    pass"
   ]
  }
 ],
 "metadata": {
  "kernelspec": {
   "display_name": "Python 3",
   "language": "python",
   "name": "python3"
  },
  "language_info": {
   "codemirror_mode": {
    "name": "ipython",
    "version": 3
   },
   "file_extension": ".py",
   "mimetype": "text/x-python",
   "name": "python",
   "nbconvert_exporter": "python",
   "pygments_lexer": "ipython3",
   "version": "3.8.5"
  }
 },
 "nbformat": 4,
 "nbformat_minor": 4
}
