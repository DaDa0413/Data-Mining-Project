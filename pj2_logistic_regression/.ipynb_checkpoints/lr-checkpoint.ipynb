{
 "cells": [
  {
   "cell_type": "code",
   "execution_count": 35,
   "metadata": {},
   "outputs": [
    {
     "name": "stderr",
     "output_type": "stream",
     "text": [
      "<ipython-input-35-9d4a7af32147>:5: VisibleDeprecationWarning: Creating an ndarray from ragged nested sequences (which is a list-or-tuple of lists-or-tuples-or ndarrays with different lengths or shapes) is deprecated. If you meant to do this, you must specify 'dtype=object' when creating the ndarray\n",
      "  dataset = np.array([\n"
     ]
    },
    {
     "data": {
      "image/png": "[encoded data removed]",
      "text/plain": [
       "<Figure size 432x288 with 1 Axes>"
      ]
     },
     "metadata": {
      "needs_background": "light"
     },
     "output_type": "display_data"
    }
   ],
   "source": [
    "import matplotlib.pyplot as plt\n",
    "import numpy as np\n",
    "import math\n",
    "\n",
    "dataset = np.array([\n",
    "((1, -0.4, 0.3), 0),\n",
    "((1, -0.3, -0.1), 0),\n",
    "((1, -0.2, 0.4), 0),\n",
    "((1, -0.1, 0.1), 0),\n",
    "((1, 0.6, -0.5), 0), #非線性分割點\n",
    "\n",
    "((1, 0.8, 0.7), 1),\n",
    "((1, 0.9, -0.5), 1),\n",
    "((1, 0.7, -0.9), 1),\n",
    "((1, 0.8, 0.2), 1),\n",
    "((1, 0.4, -0.6), 1)])\n",
    "\n",
    "def sigmoid(z):\n",
    "    return 1 / (1 + np.exp(-z))\n",
    "\n",
    "def average_gradient(model, data_set):\n",
    "    gradient = np.zeros(len(model))\n",
    "    for x, y in data_set:\n",
    "        gradient += np.multiply((sigmoid(model.T.dot(x)) - y), x)\n",
    "    return gradient / len(data_set)\n",
    "\n",
    "def logistic_train(data_set):\n",
    "    model = np.ones(len(data_set[0][0]))\n",
    "    \n",
    "    learning_rate = 1\n",
    "    limit = 100\n",
    "    for i in range(limit):\n",
    "        model = model - learning_rate * average_gradient(model, data_set)\n",
    "        learning_rate *= 0.97 \n",
    "    return model\n",
    "\n",
    "def logistic_predict(model, data):\n",
    "    if sigmoid(model * data) > 0.5:\n",
    "        return True\n",
    "    else:\n",
    "        return False\n",
    "\n",
    "def logistic_predict_prob(model, data):\n",
    "    return sigmoid(model * data)\n",
    "\n",
    "def visulization(model):\n",
    "    pass\n",
    "\n",
    "w = logistic_train(dataset)\n",
    "\n",
    "ps = [v[0] for v in dataset]\n",
    "fig = plt.figure()\n",
    "ax1 = fig.add_subplot(111)\n",
    "\n",
    "ax1.scatter([v[1] for v in ps[:5]], [v[2] for v in ps[:5]], s=10, c='b', marker=\"o\", label='O')\n",
    "ax1.scatter([v[1] for v in ps[5:]], [v[2] for v in ps[5:]], s=10, c='r', marker=\"x\", label='X')\n",
    "l = np.linspace(-2,2)\n",
    "a,b = -w[1]/w[2], -w[0]/w[2]\n",
    "ax1.plot(l, a*l + b, 'b-')\n",
    "plt.legend(loc='upper left');\n",
    "plt.show()"
   ]
  },
  {
   "cell_type": "code",
   "execution_count": null,
   "metadata": {},
   "outputs": [],
   "source": []
  },
  {
   "cell_type": "code",
   "execution_count": null,
   "metadata": {},
   "outputs": [],
   "source": []
  },
  {
   "cell_type": "code",
   "execution_count": null,
   "metadata": {},
   "outputs": [],
   "source": []
  }
 ],
 "metadata": {
  "kernelspec": {
   "display_name": "Python 3",
   "language": "python",
   "name": "python3"
  },
  "language_info": {
   "codemirror_mode": {
    "name": "ipython",
    "version": 3
   },
   "file_extension": ".py",
   "mimetype": "text/x-python",
   "name": "python",
   "nbconvert_exporter": "python",
   "pygments_lexer": "ipython3",
   "version": "3.8.5"
  }
 },
 "nbformat": 4,
 "nbformat_minor": 4
}
